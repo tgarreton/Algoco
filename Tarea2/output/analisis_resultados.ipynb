{
 "cells": [
  {
   "cell_type": "code",
   "execution_count": null,
   "id": "cf7abfc0",
   "metadata": {},
   "outputs": [
    {
     "ename": "",
     "evalue": "",
     "output_type": "error",
     "traceback": [
      "\u001b[1;31mRunning cells with 'Python 3.11.4' requires the ipykernel package.\n",
      "\u001b[1;31mRun the following command to install 'ipykernel' into the Python environment. \n",
      "\u001b[1;31mCommand: 'c:/msys64/mingw64/bin/python3.11.exe -m pip install ipykernel -U --user --force-reinstall'"
     ]
    }
   ],
   "source": [
    "import pandas as pd\n",
    "import matplotlib.pyplot as plt\n",
    "\n",
    "def cargar_datos(archivo):\n",
    "    df = pd.read_csv(archivo, sep=\",\")  \n",
    "    df.columns = df.columns.str.strip()  \n",
    "    print(df.columns)  \n",
    "    return df\n",
    "\n",
    "def crear_graficos(df):\n",
    "    plt.figure(figsize=(12, 6))\n",
    "    plt.bar(df['Algoritmo'], df['Costo Edicion'], color='blue', alpha=0.7)\n",
    "    plt.xlabel('Algoritmo')\n",
    "    plt.ylabel('Costo de Edición')\n",
    "    plt.title('Comparación de Costos de Edición por Algoritmo')\n",
    "    plt.xticks(rotation=45)\n",
    "    plt.tight_layout()\n",
    "    plt.show()\n",
    "\n",
    "if __name__ == \"__main__\":\n",
    "    archivo = 'resultados.txt'\n",
    "    df = cargar_datos(archivo)\n",
    "    crear_graficos(df)"
   ]
  },
  {
   "cell_type": "code",
   "execution_count": null,
   "id": "d02985e0",
   "metadata": {},
   "outputs": [],
   "source": []
  },
  {
   "cell_type": "code",
   "execution_count": null,
   "id": "45060738",
   "metadata": {},
   "outputs": [],
   "source": []
  }
 ],
 "metadata": {
  "kernelspec": {
   "display_name": "Python 3",
   "language": "python",
   "name": "python3"
  },
  "language_info": {
   "codemirror_mode": {
    "name": "ipython",
    "version": 3
   },
   "file_extension": ".py",
   "mimetype": "text/x-python",
   "name": "python",
   "nbconvert_exporter": "python",
   "pygments_lexer": "ipython3",
   "version": "3.11.4"
  }
 },
 "nbformat": 4,
 "nbformat_minor": 5
}
